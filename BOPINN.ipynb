{
  "cells": [
    {
      "cell_type": "markdown",
      "source": [
        "## Colab computing infra available\n",
        "### Preliminaries\n",
        "#### 1. Runtime -> Change runtime type -> T4 GPU\n",
        "#### 2. Upload data folder from github repository on your google drive\n",
        "#### 3. Except first three cells, this notebook can be run on jupyter.\n",
        "#### 4. For 3., pip install bayesian-optimization is performed in anaconda tensorflow environment."
      ],
      "metadata": {
        "id": "XW60sZt3HGKv"
      }
    },
    {
      "cell_type": "code",
      "source": [
        "#GPU count and name\n",
        "!nvidia-smi -L\n",
        "!lscpu |grep 'Model name'\n",
        "#no.of sockets i.e available slots for physical processors\n",
        "!lscpu | grep 'Socket(s):'\n",
        "#no.of cores each processor is having\n",
        "!lscpu | grep 'Core(s) per socket:'\n",
        "#no.of threads each core is having\n",
        "!lscpu | grep 'Thread(s) per core'\n",
        "!lscpu | grep \"L3 cache\"\n",
        "#if it had turbo boost it would've shown Min and Max MHz also but it is only showing current frequency this means it always operates at 2.3GHz\n",
        "!lscpu | grep \"MHz\"\n",
        "#memory that we can use\n",
        "!cat /proc/meminfo | grep 'MemAvailable'\n",
        "#hard disk that we can use\n",
        "!df -h / | awk '{print $4}'"
      ],
      "metadata": {
        "id": "8iHIF9ANB7W-",
        "colab": {
          "base_uri": "https://localhost:8080/"
        },
        "outputId": "677a2eac-9246-478b-f44c-cbeef270bda4"
      },
      "execution_count": null,
      "outputs": [
        {
          "output_type": "stream",
          "name": "stdout",
          "text": [
            "GPU 0: Tesla T4 (UUID: GPU-2429e038-2c60-04b9-d3a5-5573f49827da)\n",
            "Model name:                      Intel(R) Xeon(R) CPU @ 2.30GHz\n",
            "Socket(s):                       1\n",
            "Core(s) per socket:              1\n",
            "Thread(s) per core:              2\n",
            "L3 cache:                        45 MiB (1 instance)\n",
            "MemAvailable:   12416136 kB\n",
            "Avail\n",
            "52G\n"
          ]
        }
      ]
    },
    {
      "cell_type": "code",
      "source": [
        "#  mount google drive\n",
        "from google.colab import drive\n",
        "drive.mount('/content/gdrive')\n",
        "path = 'gdrive/MyDrive/BOPINN/data'"
      ],
      "metadata": {
        "id": "q_ae9KDsC2Q1",
        "colab": {
          "base_uri": "https://localhost:8080/"
        },
        "outputId": "6d816703-0158-473b-a2c5-95e4b09b1c99"
      },
      "execution_count": null,
      "outputs": [
        {
          "output_type": "stream",
          "name": "stdout",
          "text": [
            "Drive already mounted at /content/gdrive; to attempt to forcibly remount, call drive.mount(\"/content/gdrive\", force_remount=True).\n"
          ]
        }
      ]
    },
    {
      "cell_type": "code",
      "source": [
        "# install Bayesian optimization library \"https://github.com/bayesian-optimization/BayesianOptimization\"\n",
        "%pip install bayesian-optimization==1.4.1\n",
        "from bayes_opt import BayesianOptimization,UtilityFunction"
      ],
      "metadata": {
        "colab": {
          "base_uri": "https://localhost:8080/"
        },
        "id": "CrbZE4FvZhbf",
        "outputId": "7cbc93bf-ae8b-4936-9fa9-70eb3727dcfb"
      },
      "execution_count": null,
      "outputs": [
        {
          "output_type": "stream",
          "name": "stdout",
          "text": [
            "Requirement already satisfied: bayesian-optimization==1.4.1 in /usr/local/lib/python3.10/dist-packages (1.4.1)\n",
            "Requirement already satisfied: numpy>=1.9.0 in /usr/local/lib/python3.10/dist-packages (from bayesian-optimization==1.4.1) (1.23.5)\n",
            "Requirement already satisfied: scipy>=1.0.0 in /usr/local/lib/python3.10/dist-packages (from bayesian-optimization==1.4.1) (1.11.4)\n",
            "Requirement already satisfied: scikit-learn>=0.18.0 in /usr/local/lib/python3.10/dist-packages (from bayesian-optimization==1.4.1) (1.2.2)\n",
            "Requirement already satisfied: colorama in /usr/local/lib/python3.10/dist-packages (from bayesian-optimization==1.4.1) (0.4.6)\n",
            "Requirement already satisfied: joblib>=1.1.1 in /usr/local/lib/python3.10/dist-packages (from scikit-learn>=0.18.0->bayesian-optimization==1.4.1) (1.3.2)\n",
            "Requirement already satisfied: threadpoolctl>=2.0.0 in /usr/local/lib/python3.10/dist-packages (from scikit-learn>=0.18.0->bayesian-optimization==1.4.1) (3.2.0)\n"
          ]
        }
      ]
    },
    {
      "cell_type": "markdown",
      "source": [
        "## In-built classes"
      ],
      "metadata": {
        "id": "qECf7VXwCvKO"
      }
    },
    {
      "cell_type": "markdown",
      "source": [
        "### Gradient Tape"
      ],
      "metadata": {
        "id": "GQQzlB87IQS1"
      }
    },
    {
      "cell_type": "code",
      "source": [
        "import tensorflow as tf\n",
        "import numpy as np\n",
        "import matplotlib.pyplot as plt\n",
        "\n",
        "class GradientLayer(tf.keras.layers.Layer):\n",
        "    \"\"\"\n",
        "    Custom layer to compute 1st and 2nd derivatives for the wave equation.\n",
        "\n",
        "    Attributes:\n",
        "        model: keras network model.\n",
        "    \"\"\"\n",
        "\n",
        "    def __init__(self, model, **kwargs):\n",
        "        \"\"\"\n",
        "        Args:\n",
        "            model: keras network model.\n",
        "        \"\"\"\n",
        "\n",
        "        self.model = model\n",
        "        super().__init__(**kwargs)\n",
        "\n",
        "    def call(self, tx):\n",
        "        \"\"\"\n",
        "        Computing 1st and 2nd derivatives for the wave equation.\n",
        "\n",
        "        Args:\n",
        "            tx: input variables (t, x).\n",
        "\n",
        "        Returns:\n",
        "            u: network output.\n",
        "            du_dt: 1st derivative of t.\n",
        "            du_dx: 1st derivative of x.\n",
        "            d2u_dt2: 2nd derivative of t.\n",
        "            d2u_dx2: 2nd derivative of x.\n",
        "        \"\"\"\n",
        "\n",
        "        with tf.GradientTape() as g:\n",
        "            g.watch(tx)\n",
        "            with tf.GradientTape() as gg:\n",
        "                gg.watch(tx)\n",
        "                u = self.model(tx)\n",
        "            du_dtx = gg.batch_jacobian(u, tx)\n",
        "            du_dt = du_dtx[..., 0]\n",
        "            du_dx = du_dtx[..., 1]\n",
        "        d2u_dtx2 = g.batch_jacobian(du_dtx, tx)\n",
        "        d2u_dt2 = d2u_dtx2[..., 0, 0]\n",
        "        d2u_dx2 = d2u_dtx2[..., 1, 1]\n",
        "\n",
        "        return u, du_dt, du_dx, d2u_dt2, d2u_dx2"
      ],
      "metadata": {
        "id": "8GmwN5gSIOr2"
      },
      "execution_count": null,
      "outputs": []
    },
    {
      "cell_type": "markdown",
      "source": [
        "### PINNs"
      ],
      "metadata": {
        "id": "e7-8pYNbDJEv"
      }
    },
    {
      "cell_type": "code",
      "source": [
        "class PINN:\n",
        "    \"\"\"\n",
        "    Build a physics informed neural network (PINN) model for the wave equation.\n",
        "\n",
        "    Attributes:\n",
        "        network: keras network model with input (t, x) and output u(t, x).\n",
        "        c: wave velocity.\n",
        "        grads: gradient layer.\n",
        "    \"\"\"\n",
        "\n",
        "    def __init__(self, network, c):\n",
        "        \"\"\"\n",
        "        Args:\n",
        "            network: keras network model with input (t, x) and output u(t, x).\n",
        "            c: wave velocity. Default is 1.\n",
        "        \"\"\"\n",
        "\n",
        "        self.network = network\n",
        "        self.c = c\n",
        "        self.grads = GradientLayer(self.network)\n",
        "\n",
        "    def build(self):\n",
        "        \"\"\"\n",
        "        Build a PINN model for the wave equation.\n",
        "\n",
        "        Returns:\n",
        "            PINN model for the projectile motion with\n",
        "                input: [ (t, x) relative to equation,\n",
        "                         (t=0, x) relative to initial condition,\n",
        "                         (t, x=bounds) relative to boundary condition ],\n",
        "                output: [ u(t,x) relative to equation,\n",
        "                          u(t=0, x) relative to initial condition,\n",
        "                          du_dt(t=0, x) relative to initial derivative of t,\n",
        "                          u(t, x=bounds) relative to boundary condition ]\n",
        "        \"\"\"\n",
        "\n",
        "        # equation input: (t, x)\n",
        "        tx_eqn = tf.keras.layers.Input(shape=(2,))\n",
        "        # initial condition input: (t=0, x)\n",
        "        tx_ini = tf.keras.layers.Input(shape=(2,))\n",
        "        # boundary condition input: (t, x=-1) or (t, x=+1)\n",
        "        tx_bnd = tf.keras.layers.Input(shape=(2,))\n",
        "\n",
        "        # compute gradients\n",
        "        _, _, _, d2u_dt2, d2u_dx2 = self.grads(tx_eqn)\n",
        "\n",
        "        # equation output being zero\n",
        "        u_eqn = d2u_dt2 - self.c*self.c * d2u_dx2\n",
        "        # initial condition output\n",
        "        u_ini, du_dt_ini, _, _, _ = self.grads(tx_ini)\n",
        "        # boundary condition output\n",
        "        u_bnd = self.network(tx_bnd)  # dirichlet\n",
        "        #_, _, u_bnd, _, _ = self.grads(tx_bnd)  # neumann\n",
        "\n",
        "        # build the PINN model for the wave equation\n",
        "        return tf.keras.models.Model(\n",
        "            inputs=[tx_eqn, tx_ini, tx_bnd],\n",
        "            outputs=[u_eqn, u_ini, du_dt_ini, u_bnd])"
      ],
      "metadata": {
        "id": "N_6QYlj4C04v"
      },
      "execution_count": null,
      "outputs": []
    },
    {
      "cell_type": "markdown",
      "source": [
        "### Network for PINN"
      ],
      "metadata": {
        "id": "ZWPMeef1DLeA"
      }
    },
    {
      "cell_type": "code",
      "source": [
        "class Network:\n",
        "    \"\"\"\n",
        "    Build a physics informed neural network (PINN) model for the wave equation.\n",
        "    \"\"\"\n",
        "\n",
        "    @classmethod\n",
        "    def build(cls, num_inputs=2, layers=[64, 128, 128, 128, 128, 64], activation='tanh', num_outputs=1):\n",
        "        \"\"\"\n",
        "        Build a PINN model for the wave equation with input shape (t, x) and output shape u(t, x).\n",
        "\n",
        "        Args:\n",
        "            num_inputs: number of input variables. Default is 2 for (t, x).\n",
        "            layers: number of hidden layers.\n",
        "            activation: activation function in hidden layers.\n",
        "            num_outpus: number of output variables. Default is 1 for u(t, x).\n",
        "\n",
        "        Returns:\n",
        "            keras network model.\n",
        "        \"\"\"\n",
        "\n",
        "        # input layer\n",
        "        inputs = tf.keras.layers.Input(shape=(num_inputs,))\n",
        "        # hidden layers\n",
        "        x = inputs\n",
        "        for layer in layers:\n",
        "            x = tf.keras.layers.Dense(layer, activation=activation,\n",
        "                kernel_initializer='he_normal')(x)\n",
        "            x = tf.keras.layers.Dropout(0.1)(x)\n",
        "        # output layer\n",
        "        outputs = tf.keras.layers.Dense(num_outputs,\n",
        "            kernel_initializer='he_normal')(x)\n",
        "\n",
        "        return tf.keras.models.Model(inputs=inputs, outputs=outputs)"
      ],
      "metadata": {
        "id": "YqrofsFgDNXR"
      },
      "execution_count": null,
      "outputs": []
    },
    {
      "cell_type": "markdown",
      "source": [
        "### Optimizer for PINN"
      ],
      "metadata": {
        "id": "ipTUkVObDT3M"
      }
    },
    {
      "cell_type": "code",
      "source": [
        "import scipy.optimize\n",
        "\n",
        "class L_BFGS_B:\n",
        "    \"\"\"\n",
        "    Optimize the keras network model using L-BFGS-B algorithm.\n",
        "\n",
        "    Attributes:\n",
        "        model: optimization target model.\n",
        "        samples: training samples.\n",
        "        factr: convergence condition. typical values for factr are: 1e12 for low accuracy;\n",
        "               1e7 for moderate accuracy; 10 for extremely high accuracy.\n",
        "        m: maximum number of variable metric corrections used to define the limited memory matrix.\n",
        "        maxls: maximum number of line search steps (per iteration).\n",
        "        maxiter: maximum number of iterations.\n",
        "        metris: logging metrics.\n",
        "        progbar: progress bar.\n",
        "    \"\"\"\n",
        "\n",
        "    def __init__(self, model, x_train, y_train, m=10, factr=1e7, pgtol=1e-5,\n",
        "                 epsilon=1e-8, maxiter=5000, maxls=50):\n",
        "        \"\"\"\n",
        "        Args:\n",
        "            model: optimization target model.\n",
        "            samples: training samples.\n",
        "            factr: convergence condition. typical values for factr are: 1e12 for low accuracy;\n",
        "                   1e7 for moderate accuracy; 10.0 for extremely high accuracy.\n",
        "            m: maximum number of variable metric corrections used to define the limited memory matrix.\n",
        "            maxls: maximum number of line search steps (per iteration).\n",
        "            maxiter: maximum number of iterations.\n",
        "        \"\"\"\n",
        "\n",
        "        # set attributes\n",
        "        self.model = model\n",
        "        self.x_train = [ tf.constant(x, dtype=tf.float32) for x in x_train ]\n",
        "        self.y_train = [ tf.constant(y, dtype=tf.float32) for y in y_train ]\n",
        "        self.factr = factr\n",
        "        self.m = m\n",
        "        self.pgtol = pgtol\n",
        "        self.epsilon = epsilon\n",
        "        self.maxls = maxls\n",
        "        self.maxiter = maxiter\n",
        "        self.metrics = ['loss']\n",
        "        # initialize the progress bar\n",
        "        self.progbar = tf.keras.callbacks.ProgbarLogger(\n",
        "            count_mode='steps', stateful_metrics=self.metrics)\n",
        "        self.progbar.set_params( {\n",
        "            'verbose':1, 'epochs':1, 'steps':self.maxiter, 'metrics':self.metrics})\n",
        "\n",
        "    def set_weights(self, flat_weights):\n",
        "        \"\"\"\n",
        "        Set weights to the model.\n",
        "\n",
        "        Args:\n",
        "            flat_weights: flatten weights.\n",
        "        \"\"\"\n",
        "\n",
        "        # get model weights\n",
        "        shapes = [ w.shape for w in self.model.get_weights() ]\n",
        "        # compute splitting indices\n",
        "        split_ids = np.cumsum([ np.prod(shape) for shape in [0] + shapes ])\n",
        "        # reshape weights\n",
        "        weights = [ flat_weights[from_id:to_id].reshape(shape)\n",
        "            for from_id, to_id, shape in zip(split_ids[:-1], split_ids[1:], shapes) ]\n",
        "        # set weights to the model\n",
        "        self.model.set_weights(weights)\n",
        "\n",
        "    @tf.function\n",
        "    def tf_evaluate(self, x, y):\n",
        "        \"\"\"\n",
        "        Evaluate loss and gradients for weights as tf.Tensor.\n",
        "\n",
        "        Args:\n",
        "            x: input data.\n",
        "\n",
        "        Returns:\n",
        "            loss and gradients for weights as tf.Tensor.\n",
        "        \"\"\"\n",
        "\n",
        "        with tf.GradientTape() as g:\n",
        "            loss = tf.reduce_mean(tf.keras.losses.mse(self.model(x), y))\n",
        "        grads = g.gradient(loss, self.model.trainable_variables)\n",
        "        return loss, grads\n",
        "\n",
        "    def evaluate(self, weights):\n",
        "        \"\"\"\n",
        "        Evaluate loss and gradients for weights as ndarray.\n",
        "\n",
        "        Args:\n",
        "            weights: flatten weights.\n",
        "\n",
        "        Returns:\n",
        "            loss and gradients for weights as ndarray.\n",
        "        \"\"\"\n",
        "\n",
        "        # update weights\n",
        "        self.set_weights(weights)\n",
        "        # compute loss and gradients for weights\n",
        "        loss, grads = self.tf_evaluate(self.x_train, self.y_train)\n",
        "        # convert tf.Tensor to flatten ndarray\n",
        "        loss = loss.numpy().astype('float64')\n",
        "        grads = np.concatenate([ g.numpy().flatten() for g in grads ]).astype('float64')\n",
        "\n",
        "        return loss, grads\n",
        "\n",
        "    def callback(self, weights):\n",
        "        \"\"\"\n",
        "        Callback that prints the progress to stdout.\n",
        "\n",
        "        Args:\n",
        "            weights: flatten weights.\n",
        "        \"\"\"\n",
        "        self.progbar.on_batch_begin(0)\n",
        "        loss, _ = self.evaluate(weights)\n",
        "        self.progbar.on_batch_end(0, logs=dict(zip(self.metrics, [loss])))\n",
        "\n",
        "    def fit(self):\n",
        "        \"\"\"\n",
        "        Train the model using L-BFGS-B algorithm.\n",
        "        \"\"\"\n",
        "\n",
        "        # get initial weights as a flat vector\n",
        "        initial_weights = np.concatenate(\n",
        "            [ w.flatten() for w in self.model.get_weights() ])\n",
        "        # optimize the weight vector\n",
        "        print('Optimizer: L-BFGS-B (maxiter={})'.format(self.maxiter))\n",
        "        self.progbar.on_train_begin()\n",
        "        self.progbar.on_epoch_begin(1)\n",
        "\n",
        "        scipy.optimize.fmin_l_bfgs_b(func=self.evaluate,\n",
        "                                      x0=initial_weights,\n",
        "                                      factr=self.factr,\n",
        "                                      pgtol=self.pgtol,\n",
        "                                      epsilon=self.epsilon,\n",
        "                                      m=self.m,\n",
        "                                      maxls=self.maxls,\n",
        "                                      maxiter=self.maxiter,\n",
        "                                      callback=self.callback)\n",
        "\n",
        "        self.progbar.on_epoch_end(1)\n",
        "        self.progbar.on_train_end()\n"
      ],
      "metadata": {
        "id": "RDynBdklDSqh"
      },
      "execution_count": null,
      "outputs": []
    },
    {
      "cell_type": "markdown",
      "source": [
        "## Upload data (snapshot observation)"
      ],
      "metadata": {
        "id": "WpYtKf8CDl7P"
      }
    },
    {
      "cell_type": "code",
      "source": [
        "#from bayes_opt import BayesianOptimization, UtilityFunction\n",
        "import math\n",
        "import scipy.io\n",
        "import os\n",
        "from os.path import join\n",
        "import time\n",
        "\n",
        "# number of training samples: found 25000 points is optimal for the resolution of u(x,t) in PINN\n",
        "num_train_samples = 25000\n",
        "\n",
        "# number of test samples\n",
        "num_test_samples = 5000\n",
        "\n",
        "# Other variables\n",
        "L = 10\n",
        "n = L\n",
        "T = 1\n",
        "\n",
        "# define x,t for PINNs prediction\n",
        "x_test = np.linspace(0,L,num_test_samples)\n",
        "t_test = np.linspace(0,T,num_test_samples)\n",
        "\n",
        "# upload the snapshot observation\n",
        "dir_list = os.listdir(path)                 # path defined in 2 cell\n",
        "print(\"Files in directory\",dir_list)\n",
        "idx_data = 0 # 0,1,2                        # which file\n",
        "data = dir_list[idx_data]\n",
        "print(\"Imported file\", data)\n",
        "\n",
        "file = join(path, data)\n",
        "u_analy = scipy.io.loadmat(file)\n",
        "u_analy = u_analy['a1']\n",
        "\n",
        "# plot the snapshot observation\n",
        "fig = plt.figure(figsize=(7,4))\n",
        "plt.plot(x_test,u_analy, '-', linewidth = 2)\n",
        "plt.title(\"Snapshot observation at = 0.25s\",fontsize=15)\n",
        "plt.xlabel('$x$', fontsize = 15)\n",
        "plt.ylabel('Normalized u(x,t)', fontsize = 15)\n",
        "plt.xticks(fontsize = 12)\n",
        "plt.yticks(fontsize = 12)\n",
        "\n",
        "# time of observation = for PINN prediction of u(x,t) at tilde_t\n",
        "tilde_t = 0.25"
      ],
      "metadata": {
        "id": "_3cuJlPqCHZd",
        "colab": {
          "base_uri": "https://localhost:8080/",
          "height": 459
        },
        "outputId": "d5169459-39aa-4294-d7cb-127b58634e5e"
      },
      "execution_count": null,
      "outputs": [
        {
          "output_type": "stream",
          "name": "stdout",
          "text": [
            "Files in directory ['u_analytic_c=0.2t=0.25snr=39.36.mat', 'u_analytic_c=0.55t=0.25snr=38.91.mat', 'u_analytic_c=0.85t=0.25snr=37.5.mat']\n",
            "Imported file u_analytic_c=0.2t=0.25snr=39.36.mat\n"
          ]
        },
        {
          "output_type": "display_data",
          "data": {
            "text/plain": [
              "<Figure size 700x400 with 1 Axes>"
            ],
            "image/png": "[encoded data removed]"
          },
          "metadata": {}
        }
      ]
    },
    {
      "cell_type": "markdown",
      "source": [
        "## Collocation points"
      ],
      "metadata": {
        "id": "mPj-1ODfEFhe"
      }
    },
    {
      "cell_type": "code",
      "source": [
        "#%% Initial conditions\n",
        "def u0(t):\n",
        "    z = -np.sin(1*math.pi*t)\n",
        "    return z\n",
        "\n",
        "def du0_dt(tx):\n",
        "    with tf.GradientTape() as g:\n",
        "        g.watch(tx)\n",
        "        u = u0(tx)\n",
        "    du_dt = g.batch_jacobian(u, tx)[..., 0]\n",
        "    return du_dt\n",
        "\n",
        "def RMS(S):\n",
        "    rms = np.sqrt(np.mean(S**2))\n",
        "    return rms\n",
        "\n",
        "#%% collocation points\n",
        "# create training input\n",
        "tx_eqn = np.random.rand(num_train_samples, 2)\n",
        "tx_eqn[..., 0] = T*tx_eqn[..., 0]                      # t =  0 ~ +1\n",
        "tx_eqn[..., 1] = L*tx_eqn[..., 1]                      # x = 0 ~ +10\n",
        "#print('\\nShape of t_eqn ==>',tx_eqn.shape)\n",
        "\n",
        "tx_ini = np.random.rand(num_train_samples, 2)\n",
        "tx_ini[..., 0] = 0                                     # t = 0\n",
        "tx_ini[..., 1] = L*tx_ini[..., 1]                      # x = 0 ~ +10\n",
        "#print('\\nShape of tx_ini ==>',tx_ini.shape)\n",
        "\n",
        "tx_bnd = np.random.rand(num_train_samples, 2)\n",
        "tx_bnd[..., 0] = T*tx_bnd[..., 0]                      # t =  0 ~ +1\n",
        "tx_bnd[..., 1] = L*np.round(tx_bnd[..., 1])            # x =  0 or +10\n",
        "#print('\\nShape of tx_bnd ==>',tx_bnd.shape)\n",
        "\n",
        "# initial and boundary conditions\n",
        "u_zero = np.zeros((num_train_samples, 1))\n",
        "u_ini = u0(tx_ini[:,1,None])\n",
        "du_dt_ini = np.zeros((num_train_samples, 1))"
      ],
      "metadata": {
        "id": "xHHrWjfvCeaP"
      },
      "execution_count": null,
      "outputs": []
    },
    {
      "cell_type": "markdown",
      "source": [
        "## Target function or objective function for BOPINN"
      ],
      "metadata": {
        "id": "_3hVo0wKEOyZ"
      }
    },
    {
      "cell_type": "code",
      "source": [
        "#%% Target function or ojective function, g(c) = (u_pred - u_true)^2; u_pred via PINNs\n",
        "def model_builder(ic):\n",
        "    #ic = hp.Float('ic', min_value=0.1, max_value=1, step=10)\n",
        "    print('\\n ## ->>>> PINNs simulation at speed = ' + str(ic))\n",
        "\n",
        "    # build a PINN model\n",
        "    network = Network.build()\n",
        "    pinn = PINN(network,ic).build()\n",
        "\n",
        "    # train the model using L-BFGS-B algorithm\n",
        "    begin = time.time()\n",
        "    x_train = [tx_eqn, tx_ini, tx_bnd]\n",
        "    y_train = [u_zero, u_ini, du_dt_ini, u_zero]\n",
        "    lbfgs = L_BFGS_B(model=pinn, x_train=x_train, y_train=y_train)\n",
        "    lbfgs.fit()\n",
        "    end = time.time()\n",
        "    totaltime = end-begin\n",
        "    print(\"\\n Total runtime is (min.)\",totaltime/60)\n",
        "\n",
        "    # test the model\n",
        "    tx = np.stack([np.full(t_test.shape, tilde_t), x_test], axis=-1)\n",
        "    u_pred = network.predict(tx, batch_size=num_test_samples)\n",
        "\n",
        "    # mse between u_pred via PINN and snapshot observation\n",
        "    mse = -np.mean(np.square(u_analy - u_pred))\n",
        "\n",
        "    del network, pinn, lbfgs, u_pred\n",
        "\n",
        "    return mse"
      ],
      "metadata": {
        "id": "Q2NA5OvMCg64"
      },
      "execution_count": null,
      "outputs": []
    },
    {
      "cell_type": "markdown",
      "source": [
        "## Training"
      ],
      "metadata": {
        "id": "bJ-eT6gwEYSH"
      }
    },
    {
      "cell_type": "code",
      "source": [
        "#%% Bayesian Optimization\n",
        "# Attributes of BO\n",
        "itt_explore = 5\n",
        "itt = 45\n",
        "itt_all = itt_explore + itt\n",
        "n_runs = 10 # reduce this if colab has limited capability\n",
        "\n",
        "# bounds of BO\n",
        "pbounds = {'ic': (0.1, 1)}\n",
        "\n",
        "# Start BO\n",
        "mse_star_all = []\n",
        "cstar_all = []\n",
        "mse_all_all = []\n",
        "ic_all_all = []\n",
        "\n",
        "for r in range(n_runs):\n",
        "    print('\\n ## ->>>> Run =  ' + str(r))\n",
        "\n",
        "    # define the model\n",
        "    optimizer = BayesianOptimization(\n",
        "        f=model_builder,\n",
        "        pbounds=pbounds,\n",
        "        allow_duplicate_points=True)\n",
        "\n",
        "    # utility function\n",
        "    util = UtilityFunction(kind='ucb',\n",
        "                           kappa=2.576,\n",
        "                           xi=0.0,\n",
        "                           kappa_decay=1,\n",
        "                           kappa_decay_delay=0)\n",
        "\n",
        "    # run the model\n",
        "    optimizer.maximize(init_points=itt_explore,\n",
        "                       n_iter=itt,\n",
        "                       acquisition_function=util)\n",
        "\n",
        "    soln = optimizer.max\n",
        "    resi = optimizer.res\n",
        "\n",
        "    # optimum values\n",
        "    mse_star = list(soln.values())[0]\n",
        "    cstar = list(soln.values())[1]\n",
        "    cstar2 = list(cstar.values())[0]\n",
        "\n",
        "    # append all optimum values\n",
        "    mse_star_all.append(mse_star)\n",
        "    cstar_all.append(cstar2)\n",
        "\n",
        "    # all run values\n",
        "    mse_all, ic_all = [], []\n",
        "    for i,res in enumerate(resi):\n",
        "        mse = list(res.values())[0]\n",
        "        ic = list(res.values())[1]\n",
        "        ic2 = list(ic.values())[0]\n",
        "\n",
        "        # append all run values\n",
        "        mse_all.append(mse)\n",
        "        ic_all.append(ic2)\n",
        "\n",
        "    mse_all_all.append(np.array(mse_all))\n",
        "    ic_all_all.append(np.array(ic_all))\n",
        "\n",
        "    del optimizer\n",
        "\n",
        "mse_all_all = np.array(mse_all_all)\n",
        "mse_star_all = np.array(mse_star_all)\n",
        "ic_all_all = np.array(ic_all_all)\n",
        "cstar_all = np.array(cstar_all)"
      ],
      "metadata": {
        "id": "Mp27Bsy8Cl4P",
        "colab": {
          "base_uri": "https://localhost:8080/"
        },
        "outputId": "27b03b23-b1dc-4b7b-c550-c7633601a453"
      },
      "execution_count": null,
      "outputs": [
        {
          "metadata": {
            "tags": null
          },
          "name": "stdout",
          "output_type": "stream",
          "text": [
            "\n",
            " ## ->>>> Run =  0\n",
            "|   iter    |  target   |    ic     |\n",
            "-------------------------------------\n",
            "\n",
            " ## ->>>> PINNs simulation at speed = 0.4372813898716186\n",
            "Optimizer: L-BFGS-B (maxiter=5000)\n",
            "5000/5000 [==============================] - 523s 105ms/step\n",
            "\n",
            " Total runtime is (min.) 8.710416158040365\n",
            "1/1 [==============================] - 0s 127ms/step\n",
            "| \u001b[0m1        \u001b[0m | \u001b[0m-0.001148\u001b[0m | \u001b[0m0.4373   \u001b[0m |\n",
            "\n",
            " ## ->>>> PINNs simulation at speed = 0.353260871860698\n",
            "Optimizer: L-BFGS-B (maxiter=5000)\n",
            "5000/5000 [==============================] - 457s 91ms/step\n",
            "\n",
            " Total runtime is (min.) 7.620774328708649\n",
            "1/1 [==============================] - 0s 108ms/step\n",
            "| \u001b[95m2        \u001b[0m | \u001b[95m-0.000404\u001b[0m | \u001b[95m0.3533   \u001b[0m |\n",
            "\n",
            " ## ->>>> PINNs simulation at speed = 0.9598970605863492\n",
            "Optimizer: L-BFGS-B (maxiter=5000)\n",
            "5000/5000 [==============================] - 1106s 221ms/step\n",
            "\n",
            " Total runtime is (min.) 18.436524299780526\n",
            "1/1 [==============================] - 0s 105ms/step\n",
            "| \u001b[0m3        \u001b[0m | \u001b[0m-0.03358 \u001b[0m | \u001b[0m0.9599   \u001b[0m |\n",
            "\n",
            " ## ->>>> PINNs simulation at speed = 0.868646025552868\n",
            "Optimizer: L-BFGS-B (maxiter=5000)\n",
            "5000/5000 [==============================] - 779s 156ms/step\n",
            "\n",
            " Total runtime is (min.) 12.977701457341512\n",
            "1/1 [==============================] - 0s 68ms/step\n",
            "| \u001b[0m4        \u001b[0m | \u001b[0m-0.02251 \u001b[0m | \u001b[0m0.8686   \u001b[0m |\n",
            "\n",
            " ## ->>>> PINNs simulation at speed = 0.15795893544754053\n",
            "Optimizer: L-BFGS-B (maxiter=5000)\n",
            "5000/5000 [==============================] - 502s 100ms/step\n"
          ]
        },
        {
          "metadata": {
            "tags": null
          },
          "name": "stderr",
          "output_type": "stream",
          "text": [
            "WARNING:tensorflow:5 out of the last 5 calls to <function Model.make_predict_function.<locals>.predict_function at 0x79d518d530a0> triggered tf.function retracing. Tracing is expensive and the excessive number of tracings could be due to (1) creating @tf.function repeatedly in a loop, (2) passing tensors with different shapes, (3) passing Python objects instead of tensors. For (1), please define your @tf.function outside of the loop. For (2), @tf.function has reduce_retracing=True option that can avoid unnecessary retracing. For (3), please refer to https://www.tensorflow.org/guide/function#controlling_retracing and https://www.tensorflow.org/api_docs/python/tf/function for  more details.\n"
          ]
        },
        {
          "metadata": {
            "tags": null
          },
          "name": "stdout",
          "output_type": "stream",
          "text": [
            "\n",
            " Total runtime is (min.) 8.373841834068298\n",
            "1/1 [==============================] - 0s 109ms/step\n",
            "| \u001b[95m5        \u001b[0m | \u001b[95m-7.06e-05\u001b[0m | \u001b[95m0.158    \u001b[0m |\n",
            "\n",
            " ## ->>>> PINNs simulation at speed = 0.35322383568991045\n",
            "Optimizer: L-BFGS-B (maxiter=5000)\n",
            "5000/5000 [==============================] - 616s 123ms/step\n"
          ]
        },
        {
          "metadata": {
            "tags": null
          },
          "name": "stderr",
          "output_type": "stream",
          "text": [
            "WARNING:tensorflow:6 out of the last 6 calls to <function Model.make_predict_function.<locals>.predict_function at 0x79d50627e170> triggered tf.function retracing. Tracing is expensive and the excessive number of tracings could be due to (1) creating @tf.function repeatedly in a loop, (2) passing tensors with different shapes, (3) passing Python objects instead of tensors. For (1), please define your @tf.function outside of the loop. For (2), @tf.function has reduce_retracing=True option that can avoid unnecessary retracing. For (3), please refer to https://www.tensorflow.org/guide/function#controlling_retracing and https://www.tensorflow.org/api_docs/python/tf/function for  more details.\n"
          ]
        },
        {
          "output_type": "stream",
          "name": "stdout",
          "text": [
            "\n",
            " Total runtime is (min.) 10.258907715479532\n",
            "1/1 [==============================] - 0s 107ms/step\n",
            "| \u001b[0m6        \u001b[0m | \u001b[0m-0.000410\u001b[0m | \u001b[0m0.3532   \u001b[0m |\n",
            "\n",
            " ## ->>>> PINNs simulation at speed = 0.6265603597846434\n",
            "Optimizer: L-BFGS-B (maxiter=5000)\n",
            "5000/5000 [==============================] - 702s 140ms/step\n",
            "\n",
            " Total runtime is (min.) 11.704780928293864\n",
            "1/1 [==============================] - 0s 105ms/step\n",
            "| \u001b[0m7        \u001b[0m | \u001b[0m-0.005768\u001b[0m | \u001b[0m0.6266   \u001b[0m |\n",
            "\n",
            " ## ->>>> PINNs simulation at speed = 0.10004206006951194\n",
            "Optimizer: L-BFGS-B (maxiter=5000)\n",
            "5000/5000 [==============================] - 364s 73ms/step\n",
            "\n",
            " Total runtime is (min.) 6.072018718719482\n",
            "1/1 [==============================] - 0s 112ms/step\n",
            "| \u001b[0m8        \u001b[0m | \u001b[0m-0.000105\u001b[0m | \u001b[0m0.1      \u001b[0m |\n",
            "\n",
            " ## ->>>> PINNs simulation at speed = 0.25506179377329546\n",
            "Optimizer: L-BFGS-B (maxiter=5000)\n",
            "5000/5000 [==============================] - 443s 89ms/step\n",
            "\n",
            " Total runtime is (min.) 7.377660123507182\n",
            "1/1 [==============================] - 0s 83ms/step\n",
            "| \u001b[0m9        \u001b[0m | \u001b[0m-9.066e-0\u001b[0m | \u001b[0m0.2551   \u001b[0m |\n",
            "\n",
            " ## ->>>> PINNs simulation at speed = 0.20751207571890762\n",
            "Optimizer: L-BFGS-B (maxiter=5000)\n",
            "5000/5000 [==============================] - 375s 75ms/step\n",
            "\n",
            " Total runtime is (min.) 6.241973801453908\n",
            "1/1 [==============================] - 0s 119ms/step\n",
            "| \u001b[0m10       \u001b[0m | \u001b[0m-7.107e-0\u001b[0m | \u001b[0m0.2075   \u001b[0m |\n",
            "\n",
            " ## ->>>> PINNs simulation at speed = 0.29827013284790804\n",
            "Optimizer: L-BFGS-B (maxiter=5000)\n",
            "5000/5000 [==============================] - 419s 84ms/step\n",
            "\n",
            " Total runtime is (min.) 6.982113985220591\n",
            "1/1 [==============================] - 0s 76ms/step\n",
            "| \u001b[0m11       \u001b[0m | \u001b[0m-0.000182\u001b[0m | \u001b[0m0.2983   \u001b[0m |\n",
            "\n",
            " ## ->>>> PINNs simulation at speed = 0.12646718809275764\n",
            "Optimizer: L-BFGS-B (maxiter=5000)\n",
            "5000/5000 [==============================] - 481s 96ms/step\n",
            "\n",
            " Total runtime is (min.) 8.016359814008077\n",
            "1/1 [==============================] - 0s 81ms/step\n",
            "| \u001b[0m12       \u001b[0m | \u001b[0m-8.387e-0\u001b[0m | \u001b[0m0.1265   \u001b[0m |\n",
            "\n",
            " ## ->>>> PINNs simulation at speed = 0.18291510701869837\n",
            "Optimizer: L-BFGS-B (maxiter=5000)\n",
            "5000/5000 [==============================] - 367s 73ms/step\n",
            "\n",
            " Total runtime is (min.) 6.108590332667033\n",
            "1/1 [==============================] - 0s 80ms/step\n",
            "| \u001b[95m13       \u001b[0m | \u001b[95m-6.506e-0\u001b[0m | \u001b[95m0.1829   \u001b[0m |\n",
            "\n",
            " ## ->>>> PINNs simulation at speed = 0.2295051729538426\n",
            "Optimizer: L-BFGS-B (maxiter=5000)\n",
            "5000/5000 [==============================] - 510s 102ms/step\n",
            "\n",
            " Total runtime is (min.) 8.495574649175008\n",
            "1/1 [==============================] - 0s 133ms/step\n",
            "| \u001b[0m14       \u001b[0m | \u001b[0m-7.231e-0\u001b[0m | \u001b[0m0.2295   \u001b[0m |\n",
            "\n",
            " ## ->>>> PINNs simulation at speed = 0.17489332261182525\n",
            "Optimizer: L-BFGS-B (maxiter=5000)\n",
            "5000/5000 [==============================] - 480s 96ms/step\n",
            "\n",
            " Total runtime is (min.) 8.002258733908336\n",
            "1/1 [==============================] - 0s 67ms/step\n",
            "| \u001b[0m15       \u001b[0m | \u001b[0m-6.664e-0\u001b[0m | \u001b[0m0.1749   \u001b[0m |\n",
            "\n",
            " ## ->>>> PINNs simulation at speed = 0.19438706454255616\n",
            "Optimizer: L-BFGS-B (maxiter=5000)\n",
            "5000/5000 [==============================] - 365s 73ms/step\n",
            "\n",
            " Total runtime is (min.) 6.076679023106893\n",
            "1/1 [==============================] - 0s 67ms/step\n",
            "| \u001b[95m16       \u001b[0m | \u001b[95m-5.969e-0\u001b[0m | \u001b[95m0.1944   \u001b[0m |\n",
            "\n",
            " ## ->>>> PINNs simulation at speed = 0.1931523178425959\n",
            "Optimizer: L-BFGS-B (maxiter=5000)\n",
            "5000/5000 [==============================] - 478s 96ms/step\n",
            "\n",
            " Total runtime is (min.) 7.9739015102386475\n",
            "1/1 [==============================] - 0s 71ms/step\n",
            "| \u001b[95m17       \u001b[0m | \u001b[95m-5.967e-0\u001b[0m | \u001b[95m0.1932   \u001b[0m |\n",
            "\n",
            " ## ->>>> PINNs simulation at speed = 0.1472501091609439\n",
            "Optimizer: L-BFGS-B (maxiter=5000)\n",
            "5000/5000 [==============================] - 498s 100ms/step\n",
            "\n",
            " Total runtime is (min.) 8.299330997467042\n",
            "1/1 [==============================] - 0s 67ms/step\n",
            "| \u001b[0m18       \u001b[0m | \u001b[0m-7.572e-0\u001b[0m | \u001b[0m0.1473   \u001b[0m |\n",
            "\n",
            " ## ->>>> PINNs simulation at speed = 0.1864475687192167\n",
            "Optimizer: L-BFGS-B (maxiter=5000)\n",
            "5000/5000 [==============================] - 395s 79ms/step\n",
            "\n",
            " Total runtime is (min.) 6.576291259129842\n",
            "1/1 [==============================] - 0s 106ms/step\n",
            "| \u001b[0m19       \u001b[0m | \u001b[0m-6.111e-0\u001b[0m | \u001b[0m0.1864   \u001b[0m |\n",
            "\n",
            " ## ->>>> PINNs simulation at speed = 0.20641322721099062\n",
            "Optimizer: L-BFGS-B (maxiter=5000)\n",
            "5000/5000 [==============================] - 415s 83ms/step\n",
            "\n",
            " Total runtime is (min.) 6.909338291486105\n",
            "1/1 [==============================] - 0s 70ms/step\n",
            "| \u001b[0m20       \u001b[0m | \u001b[0m-6.846e-0\u001b[0m | \u001b[0m0.2064   \u001b[0m |\n",
            "\n",
            " ## ->>>> PINNs simulation at speed = 0.17467333008463468\n",
            "Optimizer: L-BFGS-B (maxiter=5000)\n",
            "5000/5000 [==============================] - 407s 81ms/step\n",
            "\n",
            " Total runtime is (min.) 6.785109670956929\n",
            "1/1 [==============================] - 0s 98ms/step\n",
            "| \u001b[0m21       \u001b[0m | \u001b[0m-6.953e-0\u001b[0m | \u001b[0m0.1747   \u001b[0m |\n",
            "\n",
            " ## ->>>> PINNs simulation at speed = 0.19224016373696584\n",
            "Optimizer: L-BFGS-B (maxiter=5000)\n",
            "5000/5000 [==============================] - 506s 101ms/step\n",
            "\n",
            " Total runtime is (min.) 8.428928422927857\n",
            "1/1 [==============================] - 0s 69ms/step\n",
            "| \u001b[0m22       \u001b[0m | \u001b[0m-6.054e-0\u001b[0m | \u001b[0m0.1922   \u001b[0m |\n",
            "\n",
            " ## ->>>> PINNs simulation at speed = 0.19200099153944267\n",
            "Optimizer: L-BFGS-B (maxiter=5000)\n",
            "5000/5000 [==============================] - 437s 87ms/step\n",
            "\n",
            " Total runtime is (min.) 7.2850401679674786\n",
            "1/1 [==============================] - 0s 103ms/step\n",
            "| \u001b[0m23       \u001b[0m | \u001b[0m-6.077e-0\u001b[0m | \u001b[0m0.192    \u001b[0m |\n",
            "\n",
            " ## ->>>> PINNs simulation at speed = 0.19115332829277382\n",
            "Optimizer: L-BFGS-B (maxiter=5000)\n",
            "5000/5000 [==============================] - 335s 67ms/step\n",
            "\n",
            " Total runtime is (min.) 5.587451763947805\n",
            "1/1 [==============================] - 0s 68ms/step\n",
            "| \u001b[0m24       \u001b[0m | \u001b[0m-6.288e-0\u001b[0m | \u001b[0m0.1912   \u001b[0m |\n",
            "\n",
            " ## ->>>> PINNs simulation at speed = 0.19599276179575198\n",
            "Optimizer: L-BFGS-B (maxiter=5000)\n",
            "5000/5000 [==============================] - 454s 91ms/step\n",
            "\n",
            " Total runtime is (min.) 7.566520047187805\n",
            "1/1 [==============================] - 0s 101ms/step\n",
            "| \u001b[0m25       \u001b[0m | \u001b[0m-6.409e-0\u001b[0m | \u001b[0m0.196    \u001b[0m |\n",
            "\n",
            " ## ->>>> PINNs simulation at speed = 0.1854055143664269\n",
            "Optimizer: L-BFGS-B (maxiter=5000)\n",
            "5000/5000 [==============================] - 456s 91ms/step\n",
            "\n",
            " Total runtime is (min.) 7.592611781756083\n",
            "1/1 [==============================] - 0s 69ms/step\n",
            "| \u001b[0m26       \u001b[0m | \u001b[0m-6.051e-0\u001b[0m | \u001b[0m0.1854   \u001b[0m |\n",
            "\n",
            " ## ->>>> PINNs simulation at speed = 0.186162721420857\n",
            "Optimizer: L-BFGS-B (maxiter=5000)\n"
          ]
        }
      ]
    },
    {
      "cell_type": "markdown",
      "source": [
        "## Processing and plotting"
      ],
      "metadata": {
        "id": "Bp5UWXSnE_YX"
      }
    },
    {
      "cell_type": "code",
      "source": [
        "#%% Process the BO results\n",
        "# max, min, mean and sd target function/objective function value across different runs\n",
        "max_mse_star_allruns, min_mse_star_allruns = np.max(mse_star_all), np.min(mse_star_all)\n",
        "mean_mse_star_allruns, std_mse_star_allruns = np.mean(mse_star_all), np.std(mse_star_all)\n",
        "\n",
        "# optima corresponding to abovementioned optimal points\n",
        "idx_max_mse_star_allruns = np.where(max_mse_star_allruns == mse_star_all)\n",
        "idx_min_mse_star_allruns = np.where(min_mse_star_allruns == mse_star_all)\n",
        "\n",
        "max_cstar_allruns = cstar_all[idx_max_mse_star_allruns]\n",
        "min_cstar_allruns = cstar_all[idx_min_mse_star_allruns]\n",
        "mean_cstar_allruns = np.mean(cstar_all)\n",
        "std_cstar_allruns = np.std(cstar_all)\n",
        "\n",
        "print(\"Max (best optimal) tf across runs = \",max_mse_star_allruns)\n",
        "print(\"Min (worst optimal) tf across runs = \",min_mse_star_allruns)\n",
        "print(\"Mean tf across runs = \",mean_mse_star_allruns)\n",
        "print(\"Std tf across runs = \",std_mse_star_allruns)\n",
        "\n",
        "print(\"Max (best optimal) c* across runs = \",max_cstar_allruns)\n",
        "print(\"Min (worst optimal) c* across runs = \",min_cstar_allruns)\n",
        "print(\"Mean c* across runs = \",mean_cstar_allruns)\n",
        "print(\"Std c* across runs = \",std_cstar_allruns)"
      ],
      "metadata": {
        "id": "m45_nEHXEcel"
      },
      "execution_count": null,
      "outputs": []
    },
    {
      "cell_type": "code",
      "source": [
        "# plot best optimal run with the optima\n",
        "idx_max_all = []\n",
        "for i in range(mse_all_all.shape[0]):\n",
        "    idx_max = np.where(mse_all_all[i,:] == mse_star_all[i])\n",
        "    idx_max = idx_max[0][0]\n",
        "    idx_max_all.append(idx_max)\n",
        "\n",
        "mean_mse_all = np.mean(mse_all_all, axis=0)\n",
        "std_mse_all = np.std(mse_all_all, axis=0)\n",
        "mean_ic_all = np.mean(ic_all_all, axis=0)\n",
        "std_ic_all = np.std(ic_all_all, axis=0)\n",
        "\n",
        "opt_mse_run = mse_all_all[idx_max_mse_star_allruns[0][0]]\n",
        "opt_c_run = ic_all_all[idx_max_mse_star_allruns[0][0]]\n",
        "opt_mse = mse_star_all[idx_max_mse_star_allruns[0][0]]\n",
        "opt_c = cstar_all[idx_max_mse_star_allruns[0][0]]\n",
        "\n",
        "txt = 'c* = '+ str(round(opt_c,4))\n",
        "plt.figure(figsize = (8, 6))\n",
        "plt.plot(opt_c_run,opt_mse_run,'ob',markersize=6)\n",
        "plt.plot(opt_c,opt_mse,'*r',markersize=8, label = 'Best optima')\n",
        "#plt.text(0.75, -0.03, txt, fontsize=18, c = 'r')\n",
        "plt.xlabel(\"velocity, c\",fontsize=20)\n",
        "plt.ylabel(\"target function, g(c)\",fontsize=20)\n",
        "plt.xticks(fontsize=20)\n",
        "plt.yticks(fontsize=20)\n",
        "plt.legend(fontsize = 14, loc='upper left')\n",
        "plt.savefig('tfvsc_'+str(idx_data+1)+'.png', bbox_inches='tight', dpi=600)\n",
        "plt.show()"
      ],
      "metadata": {
        "id": "qaTRHKjgFDP3"
      },
      "execution_count": null,
      "outputs": []
    }
  ],
  "metadata": {
    "colab": {
      "provenance": [],
      "gpuType": "T4"
    },
    "kernelspec": {
      "display_name": "Python 3",
      "name": "python3"
    },
    "accelerator": "GPU"
  },
  "nbformat": 4,
  "nbformat_minor": 0
}